{
 "cells": [
  {
   "cell_type": "markdown",
   "id": "a6875729",
   "metadata": {},
   "source": [
    "# Proyecto de Data Science - Análisis de Básquet Argentino"
   ]
  },
  {
   "cell_type": "markdown",
   "id": "b388a404",
   "metadata": {},
   "source": [
    "## Abstract\n",
    "Este proyecto tiene como objetivo analizar el rendimiento de los equipos de la Liga Nacional de Básquet de Argentina mediante un conjunto de datos con estadísticas de partidos. Se buscará extraer insights sobre la relación entre puntos, rebotes, asistencias y otros indicadores de desempeño. Además, se identificará la efectividad de los lanzamientos de tres puntos y su impacto en los resultados de los partidos. Finalmente, se evaluará la influencia de las pérdidas de balón en el rendimiento de los equipos."
   ]
  },
  {
   "cell_type": "markdown",
   "id": "b80ff48d",
   "metadata": {},
   "source": [
    "## Preguntas de interés\n",
    "- ¿Existe una correlación entre los triples encestados y la cantidad de puntos anotados?\n",
    "- ¿Los equipos que toman más rebotes suelen ganar los partidos?\n",
    "- ¿Qué relación hay entre las pérdidas y la cantidad de asistencias?"
   ]
  },
  {
   "cell_type": "code",
   "execution_count": null,
   "id": "62ed1f10",
   "metadata": {},
   "outputs": [],
   "source": [
    "\n",
    "import pandas as pd\n",
    "import numpy as np\n",
    "import matplotlib.pyplot as plt\n",
    "import seaborn as sns\n",
    "\n",
    "# Cargar dataset\n",
    "from google.colab import files\n",
    "uploaded = files.upload()\n",
    "\n",
    "df = pd.read_csv(next(iter(uploaded.keys())))\n",
    "df.head()\n"
   ]
  },
  {
   "cell_type": "code",
   "execution_count": null,
   "id": "9ca61651",
   "metadata": {},
   "outputs": [],
   "source": [
    "\n",
    "# Identificación de valores perdidos\n",
    "missing_values = df.isnull().sum()\n",
    "print(\"Valores perdidos en cada columna:\")\n",
    "print(missing_values)\n"
   ]
  },
  {
   "cell_type": "code",
   "execution_count": null,
   "id": "0199147d",
   "metadata": {},
   "outputs": [],
   "source": [
    "\n",
    "plt.figure(figsize=(10, 6))\n",
    "sns.scatterplot(x=df['Triples_Encestados_Local'] + df['Triples_Encestados_Visitante'], \n",
    "                y=df['Puntos_Local'] + df['Puntos_Visitante'])\n",
    "plt.xlabel(\"Triples Encestados (Totales)\")\n",
    "plt.ylabel(\"Puntos Totales\")\n",
    "plt.title(\"Relación entre Triples Encestados y Puntos\")\n",
    "plt.show()\n"
   ]
  },
  {
   "cell_type": "code",
   "execution_count": null,
   "id": "2803d76f",
   "metadata": {},
   "outputs": [],
   "source": [
    "\n",
    "df['Ganador'] = np.where(df['Puntos_Local'] > df['Puntos_Visitante'], df['Equipo_Local'], df['Equipo_Visitante'])\n",
    "rebotes_por_victoria = df.groupby(\"Ganador\")[['Rebotes_Local', 'Rebotes_Visitante']].mean()\n",
    "rebotes_por_victoria.plot(kind='bar', figsize=(12,6))\n",
    "plt.ylabel(\"Promedio de Rebotes\")\n",
    "plt.title(\"Promedio de Rebotes por Equipo Ganador\")\n",
    "plt.show()\n"
   ]
  },
  {
   "cell_type": "code",
   "execution_count": null,
   "id": "df24e9ba",
   "metadata": {},
   "outputs": [],
   "source": [
    "\n",
    "plt.figure(figsize=(10, 6))\n",
    "sns.scatterplot(x=df['Pérdidas_Local'] + df['Pérdidas_Visitante'], \n",
    "                y=df['Asistencias_Local'] + df['Asistencias_Visitante'])\n",
    "plt.xlabel(\"Pérdidas Totales\")\n",
    "plt.ylabel(\"Asistencias Totales\")\n",
    "plt.title(\"Relación entre Pérdidas y Asistencias\")\n",
    "plt.show()\n"
   ]
  }
 ],
 "metadata": {},
 "nbformat": 4,
 "nbformat_minor": 5
}
